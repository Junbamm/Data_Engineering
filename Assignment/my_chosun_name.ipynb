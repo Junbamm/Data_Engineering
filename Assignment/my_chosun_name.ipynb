{
 "cells": [
  {
   "cell_type": "code",
   "execution_count": 1,
   "id": "ad95bae0",
   "metadata": {},
   "outputs": [
    {
     "name": "stdout",
     "output_type": "stream",
     "text": [
      "당신의 조선 시대 이름은 안칠걸 입니다.\n"
     ]
    }
   ],
   "source": [
    "def get_my_chosun_name(family_name, month, day):\n",
    "    # 월별 이름의 첫 번째 글자를 나타내는 리스트\n",
    "    first_name_parts = ['쌍', '쇠', '복', '돌', '팽', '육', '쌍', '개', '칠', '갑', '삼', '방']\n",
    "    # 일별 이름의 두 번째 글자를 나타내는 리스트\n",
    "    second_name_parts = ['봉', '구', '육', '포', '똥', '삼', '식', '석', '놈', '님', '년', '돌', '딘', '득', '방', '질'\n",
    "                         , '장', '걸', '래', '룡', '동', '순', '자', '박', '창', '언', '것', '포', '만', '단', '국']\n",
    "\n",
    "    # 월과 일에 해당하는 이름 부분을 가져옴\n",
    "    first_name_part = first_name_parts[month - 1]\n",
    "    second_name_part = second_name_parts[day - 1]\n",
    "\n",
    "    # 조선 시대 이름을 생성\n",
    "    chosun_name = f'당신의 조선 시대 이름은 {family_name}{first_name_part}{second_name_part} 입니다.'\n",
    "    \n",
    "    # 생성된 이름 반환\n",
    "    return chosun_name\n",
    "\n",
    "# 함수를 호출하여 조선 시대 이름을 출력\n",
    "print(get_my_chosun_name('안', 9, 18))\n"
   ]
  }
 ],
 "metadata": {
  "kernelspec": {
   "display_name": "Python 3 (ipykernel)",
   "language": "python",
   "name": "python3"
  },
  "language_info": {
   "codemirror_mode": {
    "name": "ipython",
    "version": 3
   },
   "file_extension": ".py",
   "mimetype": "text/x-python",
   "name": "python",
   "nbconvert_exporter": "python",
   "pygments_lexer": "ipython3",
   "version": "3.11.4"
  }
 },
 "nbformat": 4,
 "nbformat_minor": 5
}
